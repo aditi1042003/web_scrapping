{
  "nbformat": 4,
  "nbformat_minor": 0,
  "metadata": {
    "colab": {
      "provenance": [],
      "collapsed_sections": [],
      "authorship_tag": "ABX9TyOK7E8y6mMxggq3g2pBxjbW",
      "include_colab_link": true
    },
    "kernelspec": {
      "name": "python3",
      "display_name": "Python 3"
    },
    "language_info": {
      "name": "python"
    }
  },
  "cells": [
    {
      "cell_type": "markdown",
      "metadata": {
        "id": "view-in-github",
        "colab_type": "text"
      },
      "source": [
        "<a href=\"https://colab.research.google.com/github/aditi1042003/web_scrapping/blob/main/BasicAPI_call.ipynb\" target=\"_parent\"><img src=\"https://colab.research.google.com/assets/colab-badge.svg\" alt=\"Open In Colab\"/></a>"
      ]
    },
    {
      "cell_type": "code",
      "execution_count": null,
      "metadata": {
        "id": "QhTMs84lUy8X"
      },
      "outputs": [],
      "source": [
        "import json\n",
        "import urllib.request as url\n",
        "path=\"https://data.covid19india.org/states_daily.json\"\n",
        "response=url.urlopen(path)"
      ]
    },
    {
      "cell_type": "code",
      "source": [
        "data=json.load(response)"
      ],
      "metadata": {
        "id": "9yovtNWNVEHx"
      },
      "execution_count": null,
      "outputs": []
    },
    {
      "cell_type": "markdown",
      "source": [
        "API -application programming interface\n",
        "we get data in json format\n",
        "javascript object notation\n",
        "similar to dictionary\n"
      ],
      "metadata": {
        "id": "pkfCH_bCVFQZ"
      }
    },
    {
      "cell_type": "code",
      "source": [
        "data.keys()"
      ],
      "metadata": {
        "colab": {
          "base_uri": "https://localhost:8080/"
        },
        "id": "N0jTS_gwGgZB",
        "outputId": "eef2fbed-5b48-4613-ac58-39233b4d54a7"
      },
      "execution_count": null,
      "outputs": [
        {
          "output_type": "execute_result",
          "data": {
            "text/plain": [
              "dict_keys(['states_daily'])"
            ]
          },
          "metadata": {},
          "execution_count": 7
        }
      ]
    },
    {
      "cell_type": "code",
      "source": [
        "type(data)\n",
        "state=data[\"states_daily\"]"
      ],
      "metadata": {
        "id": "-89P_i5kGgIc"
      },
      "execution_count": null,
      "outputs": []
    },
    {
      "cell_type": "code",
      "source": [
        "len(state)"
      ],
      "metadata": {
        "colab": {
          "base_uri": "https://localhost:8080/"
        },
        "id": "1R5fv2UKLa-Q",
        "outputId": "febc4d8e-9254-4687-a24e-410f6b72b79a"
      },
      "execution_count": null,
      "outputs": [
        {
          "output_type": "execute_result",
          "data": {
            "text/plain": [
              "1563"
            ]
          },
          "metadata": {},
          "execution_count": 9
        }
      ]
    },
    {
      "cell_type": "code",
      "source": [
        "len(state)/3\n"
      ],
      "metadata": {
        "colab": {
          "base_uri": "https://localhost:8080/"
        },
        "id": "-ChDfqeTJogs",
        "outputId": "79023bdc-5181-4ad0-8d6f-cb0f22bf8c8b"
      },
      "execution_count": null,
      "outputs": [
        {
          "output_type": "execute_result",
          "data": {
            "text/plain": [
              "521.0"
            ]
          },
          "metadata": {},
          "execution_count": 10
        }
      ]
    },
    {
      "cell_type": "code",
      "source": [
        "state[0]\n",
        "state[-1]"
      ],
      "metadata": {
        "colab": {
          "base_uri": "https://localhost:8080/"
        },
        "id": "D2W-x0xDJoZi",
        "outputId": "74080652-671a-4c06-efc5-144554591cc4"
      },
      "execution_count": null,
      "outputs": [
        {
          "output_type": "execute_result",
          "data": {
            "text/plain": [
              "{'an': '0',\n",
              " 'ap': '13',\n",
              " 'ar': '0',\n",
              " 'as': '10',\n",
              " 'br': '0',\n",
              " 'ch': '0',\n",
              " 'ct': '1',\n",
              " 'date': '16-Aug-21',\n",
              " 'dateymd': '2021-08-16',\n",
              " 'dd': '0',\n",
              " 'dl': '0',\n",
              " 'dn': '0',\n",
              " 'ga': '5',\n",
              " 'gj': '0',\n",
              " 'hp': '3',\n",
              " 'hr': '2',\n",
              " 'jh': '0',\n",
              " 'jk': '1',\n",
              " 'ka': '28',\n",
              " 'kl': '142',\n",
              " 'la': '0',\n",
              " 'ld': '0',\n",
              " 'mh': '100',\n",
              " 'ml': '8',\n",
              " 'mn': '6',\n",
              " 'mp': '1',\n",
              " 'mz': '3',\n",
              " 'nl': '4',\n",
              " 'or': '66',\n",
              " 'pb': '2',\n",
              " 'py': '0',\n",
              " 'rj': '0',\n",
              " 'sk': '0',\n",
              " 'status': 'Deceased',\n",
              " 'tg': '3',\n",
              " 'tn': '28',\n",
              " 'tr': '1',\n",
              " 'tt': '438',\n",
              " 'un': '0',\n",
              " 'up': '1',\n",
              " 'ut': '1',\n",
              " 'wb': '9'}"
            ]
          },
          "metadata": {},
          "execution_count": 11
        }
      ]
    },
    {
      "cell_type": "code",
      "source": [
        "state[0]"
      ],
      "metadata": {
        "colab": {
          "base_uri": "https://localhost:8080/"
        },
        "id": "locVTPKTJoH4",
        "outputId": "73ff2569-c3f5-48b6-f50e-ef28e7f1bb15"
      },
      "execution_count": null,
      "outputs": [
        {
          "output_type": "execute_result",
          "data": {
            "text/plain": [
              "{'an': '0',\n",
              " 'ap': '1',\n",
              " 'ar': '0',\n",
              " 'as': '0',\n",
              " 'br': '0',\n",
              " 'ch': '0',\n",
              " 'ct': '0',\n",
              " 'date': '14-Mar-20',\n",
              " 'dateymd': '2020-03-14',\n",
              " 'dd': '0',\n",
              " 'dl': '7',\n",
              " 'dn': '0',\n",
              " 'ga': '0',\n",
              " 'gj': '0',\n",
              " 'hp': '0',\n",
              " 'hr': '14',\n",
              " 'jh': '0',\n",
              " 'jk': '2',\n",
              " 'ka': '6',\n",
              " 'kl': '19',\n",
              " 'la': '0',\n",
              " 'ld': '0',\n",
              " 'mh': '14',\n",
              " 'ml': '0',\n",
              " 'mn': '0',\n",
              " 'mp': '0',\n",
              " 'mz': '0',\n",
              " 'nl': '0',\n",
              " 'or': '0',\n",
              " 'pb': '1',\n",
              " 'py': '0',\n",
              " 'rj': '3',\n",
              " 'sk': '0',\n",
              " 'status': 'Confirmed',\n",
              " 'tg': '1',\n",
              " 'tn': '1',\n",
              " 'tr': '0',\n",
              " 'tt': '81',\n",
              " 'un': '0',\n",
              " 'up': '12',\n",
              " 'ut': '0',\n",
              " 'wb': '0'}"
            ]
          },
          "metadata": {},
          "execution_count": 12
        }
      ]
    },
    {
      "cell_type": "code",
      "source": [],
      "metadata": {
        "id": "M9HX5h32K3XE"
      },
      "execution_count": null,
      "outputs": []
    },
    {
      "cell_type": "code",
      "source": [
        "import pandas as pd\n",
        "df=pd.DataFrame(state)"
      ],
      "metadata": {
        "id": "CPom16UaJnsT"
      },
      "execution_count": null,
      "outputs": []
    },
    {
      "cell_type": "code",
      "source": [
        "df.head()"
      ],
      "metadata": {
        "colab": {
          "base_uri": "https://localhost:8080/",
          "height": 473
        },
        "id": "TfAtvzFDK4RZ",
        "outputId": "f96c850f-efe6-4b29-fb68-ef5ef512d416"
      },
      "execution_count": null,
      "outputs": [
        {
          "output_type": "execute_result",
          "data": {
            "text/plain": [
              "  an ap ar as br ch ct       date     dateymd dd  ... sk     status tg tn tr  \\\n",
              "0  0  1  0  0  0  0  0  14-Mar-20  2020-03-14  0  ...  0  Confirmed  1  1  0   \n",
              "1  0  0  0  0  0  0  0  14-Mar-20  2020-03-14  0  ...  0  Recovered  0  0  0   \n",
              "2  0  0  0  0  0  0  0  14-Mar-20  2020-03-14  0  ...  0   Deceased  0  0  0   \n",
              "3  0  0  0  0  0  0  0  15-Mar-20  2020-03-15  0  ...  0  Confirmed  2  0  0   \n",
              "4  0  0  0  0  0  0  0  15-Mar-20  2020-03-15  0  ...  0  Recovered  1  0  0   \n",
              "\n",
              "   tt un  up ut wb  \n",
              "0  81  0  12  0  0  \n",
              "1   9  0   4  0  0  \n",
              "2   2  0   0  0  0  \n",
              "3  27  0   1  0  0  \n",
              "4   4  0   0  0  0  \n",
              "\n",
              "[5 rows x 42 columns]"
            ],
            "text/html": [
              "\n",
              "  <div id=\"df-41b79988-a937-404d-8cb9-5146ca8f7927\">\n",
              "    <div class=\"colab-df-container\">\n",
              "      <div>\n",
              "<style scoped>\n",
              "    .dataframe tbody tr th:only-of-type {\n",
              "        vertical-align: middle;\n",
              "    }\n",
              "\n",
              "    .dataframe tbody tr th {\n",
              "        vertical-align: top;\n",
              "    }\n",
              "\n",
              "    .dataframe thead th {\n",
              "        text-align: right;\n",
              "    }\n",
              "</style>\n",
              "<table border=\"1\" class=\"dataframe\">\n",
              "  <thead>\n",
              "    <tr style=\"text-align: right;\">\n",
              "      <th></th>\n",
              "      <th>an</th>\n",
              "      <th>ap</th>\n",
              "      <th>ar</th>\n",
              "      <th>as</th>\n",
              "      <th>br</th>\n",
              "      <th>ch</th>\n",
              "      <th>ct</th>\n",
              "      <th>date</th>\n",
              "      <th>dateymd</th>\n",
              "      <th>dd</th>\n",
              "      <th>...</th>\n",
              "      <th>sk</th>\n",
              "      <th>status</th>\n",
              "      <th>tg</th>\n",
              "      <th>tn</th>\n",
              "      <th>tr</th>\n",
              "      <th>tt</th>\n",
              "      <th>un</th>\n",
              "      <th>up</th>\n",
              "      <th>ut</th>\n",
              "      <th>wb</th>\n",
              "    </tr>\n",
              "  </thead>\n",
              "  <tbody>\n",
              "    <tr>\n",
              "      <th>0</th>\n",
              "      <td>0</td>\n",
              "      <td>1</td>\n",
              "      <td>0</td>\n",
              "      <td>0</td>\n",
              "      <td>0</td>\n",
              "      <td>0</td>\n",
              "      <td>0</td>\n",
              "      <td>14-Mar-20</td>\n",
              "      <td>2020-03-14</td>\n",
              "      <td>0</td>\n",
              "      <td>...</td>\n",
              "      <td>0</td>\n",
              "      <td>Confirmed</td>\n",
              "      <td>1</td>\n",
              "      <td>1</td>\n",
              "      <td>0</td>\n",
              "      <td>81</td>\n",
              "      <td>0</td>\n",
              "      <td>12</td>\n",
              "      <td>0</td>\n",
              "      <td>0</td>\n",
              "    </tr>\n",
              "    <tr>\n",
              "      <th>1</th>\n",
              "      <td>0</td>\n",
              "      <td>0</td>\n",
              "      <td>0</td>\n",
              "      <td>0</td>\n",
              "      <td>0</td>\n",
              "      <td>0</td>\n",
              "      <td>0</td>\n",
              "      <td>14-Mar-20</td>\n",
              "      <td>2020-03-14</td>\n",
              "      <td>0</td>\n",
              "      <td>...</td>\n",
              "      <td>0</td>\n",
              "      <td>Recovered</td>\n",
              "      <td>0</td>\n",
              "      <td>0</td>\n",
              "      <td>0</td>\n",
              "      <td>9</td>\n",
              "      <td>0</td>\n",
              "      <td>4</td>\n",
              "      <td>0</td>\n",
              "      <td>0</td>\n",
              "    </tr>\n",
              "    <tr>\n",
              "      <th>2</th>\n",
              "      <td>0</td>\n",
              "      <td>0</td>\n",
              "      <td>0</td>\n",
              "      <td>0</td>\n",
              "      <td>0</td>\n",
              "      <td>0</td>\n",
              "      <td>0</td>\n",
              "      <td>14-Mar-20</td>\n",
              "      <td>2020-03-14</td>\n",
              "      <td>0</td>\n",
              "      <td>...</td>\n",
              "      <td>0</td>\n",
              "      <td>Deceased</td>\n",
              "      <td>0</td>\n",
              "      <td>0</td>\n",
              "      <td>0</td>\n",
              "      <td>2</td>\n",
              "      <td>0</td>\n",
              "      <td>0</td>\n",
              "      <td>0</td>\n",
              "      <td>0</td>\n",
              "    </tr>\n",
              "    <tr>\n",
              "      <th>3</th>\n",
              "      <td>0</td>\n",
              "      <td>0</td>\n",
              "      <td>0</td>\n",
              "      <td>0</td>\n",
              "      <td>0</td>\n",
              "      <td>0</td>\n",
              "      <td>0</td>\n",
              "      <td>15-Mar-20</td>\n",
              "      <td>2020-03-15</td>\n",
              "      <td>0</td>\n",
              "      <td>...</td>\n",
              "      <td>0</td>\n",
              "      <td>Confirmed</td>\n",
              "      <td>2</td>\n",
              "      <td>0</td>\n",
              "      <td>0</td>\n",
              "      <td>27</td>\n",
              "      <td>0</td>\n",
              "      <td>1</td>\n",
              "      <td>0</td>\n",
              "      <td>0</td>\n",
              "    </tr>\n",
              "    <tr>\n",
              "      <th>4</th>\n",
              "      <td>0</td>\n",
              "      <td>0</td>\n",
              "      <td>0</td>\n",
              "      <td>0</td>\n",
              "      <td>0</td>\n",
              "      <td>0</td>\n",
              "      <td>0</td>\n",
              "      <td>15-Mar-20</td>\n",
              "      <td>2020-03-15</td>\n",
              "      <td>0</td>\n",
              "      <td>...</td>\n",
              "      <td>0</td>\n",
              "      <td>Recovered</td>\n",
              "      <td>1</td>\n",
              "      <td>0</td>\n",
              "      <td>0</td>\n",
              "      <td>4</td>\n",
              "      <td>0</td>\n",
              "      <td>0</td>\n",
              "      <td>0</td>\n",
              "      <td>0</td>\n",
              "    </tr>\n",
              "  </tbody>\n",
              "</table>\n",
              "<p>5 rows × 42 columns</p>\n",
              "</div>\n",
              "      <button class=\"colab-df-convert\" onclick=\"convertToInteractive('df-41b79988-a937-404d-8cb9-5146ca8f7927')\"\n",
              "              title=\"Convert this dataframe to an interactive table.\"\n",
              "              style=\"display:none;\">\n",
              "        \n",
              "  <svg xmlns=\"http://www.w3.org/2000/svg\" height=\"24px\"viewBox=\"0 0 24 24\"\n",
              "       width=\"24px\">\n",
              "    <path d=\"M0 0h24v24H0V0z\" fill=\"none\"/>\n",
              "    <path d=\"M18.56 5.44l.94 2.06.94-2.06 2.06-.94-2.06-.94-.94-2.06-.94 2.06-2.06.94zm-11 1L8.5 8.5l.94-2.06 2.06-.94-2.06-.94L8.5 2.5l-.94 2.06-2.06.94zm10 10l.94 2.06.94-2.06 2.06-.94-2.06-.94-.94-2.06-.94 2.06-2.06.94z\"/><path d=\"M17.41 7.96l-1.37-1.37c-.4-.4-.92-.59-1.43-.59-.52 0-1.04.2-1.43.59L10.3 9.45l-7.72 7.72c-.78.78-.78 2.05 0 2.83L4 21.41c.39.39.9.59 1.41.59.51 0 1.02-.2 1.41-.59l7.78-7.78 2.81-2.81c.8-.78.8-2.07 0-2.86zM5.41 20L4 18.59l7.72-7.72 1.47 1.35L5.41 20z\"/>\n",
              "  </svg>\n",
              "      </button>\n",
              "      \n",
              "  <style>\n",
              "    .colab-df-container {\n",
              "      display:flex;\n",
              "      flex-wrap:wrap;\n",
              "      gap: 12px;\n",
              "    }\n",
              "\n",
              "    .colab-df-convert {\n",
              "      background-color: #E8F0FE;\n",
              "      border: none;\n",
              "      border-radius: 50%;\n",
              "      cursor: pointer;\n",
              "      display: none;\n",
              "      fill: #1967D2;\n",
              "      height: 32px;\n",
              "      padding: 0 0 0 0;\n",
              "      width: 32px;\n",
              "    }\n",
              "\n",
              "    .colab-df-convert:hover {\n",
              "      background-color: #E2EBFA;\n",
              "      box-shadow: 0px 1px 2px rgba(60, 64, 67, 0.3), 0px 1px 3px 1px rgba(60, 64, 67, 0.15);\n",
              "      fill: #174EA6;\n",
              "    }\n",
              "\n",
              "    [theme=dark] .colab-df-convert {\n",
              "      background-color: #3B4455;\n",
              "      fill: #D2E3FC;\n",
              "    }\n",
              "\n",
              "    [theme=dark] .colab-df-convert:hover {\n",
              "      background-color: #434B5C;\n",
              "      box-shadow: 0px 1px 3px 1px rgba(0, 0, 0, 0.15);\n",
              "      filter: drop-shadow(0px 1px 2px rgba(0, 0, 0, 0.3));\n",
              "      fill: #FFFFFF;\n",
              "    }\n",
              "  </style>\n",
              "\n",
              "      <script>\n",
              "        const buttonEl =\n",
              "          document.querySelector('#df-41b79988-a937-404d-8cb9-5146ca8f7927 button.colab-df-convert');\n",
              "        buttonEl.style.display =\n",
              "          google.colab.kernel.accessAllowed ? 'block' : 'none';\n",
              "\n",
              "        async function convertToInteractive(key) {\n",
              "          const element = document.querySelector('#df-41b79988-a937-404d-8cb9-5146ca8f7927');\n",
              "          const dataTable =\n",
              "            await google.colab.kernel.invokeFunction('convertToInteractive',\n",
              "                                                     [key], {});\n",
              "          if (!dataTable) return;\n",
              "\n",
              "          const docLinkHtml = 'Like what you see? Visit the ' +\n",
              "            '<a target=\"_blank\" href=https://colab.research.google.com/notebooks/data_table.ipynb>data table notebook</a>'\n",
              "            + ' to learn more about interactive tables.';\n",
              "          element.innerHTML = '';\n",
              "          dataTable['output_type'] = 'display_data';\n",
              "          await google.colab.output.renderOutput(dataTable, element);\n",
              "          const docLink = document.createElement('div');\n",
              "          docLink.innerHTML = docLinkHtml;\n",
              "          element.appendChild(docLink);\n",
              "        }\n",
              "      </script>\n",
              "    </div>\n",
              "  </div>\n",
              "  "
            ]
          },
          "metadata": {},
          "execution_count": 14
        }
      ]
    },
    {
      "cell_type": "code",
      "source": [],
      "metadata": {
        "id": "18N8hwgjK4EU"
      },
      "execution_count": null,
      "outputs": []
    },
    {
      "cell_type": "markdown",
      "source": [],
      "metadata": {
        "id": "OU-KibyxVBWd"
      }
    }
  ]
}