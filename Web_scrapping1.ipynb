{
  "nbformat": 4,
  "nbformat_minor": 0,
  "metadata": {
    "colab": {
      "provenance": [],
      "collapsed_sections": [],
      "authorship_tag": "ABX9TyOEg+C0t+ZdT5W7/lDV3S70",
      "include_colab_link": true
    },
    "kernelspec": {
      "name": "python3",
      "display_name": "Python 3"
    },
    "language_info": {
      "name": "python"
    }
  },
  "cells": [
    {
      "cell_type": "markdown",
      "metadata": {
        "id": "view-in-github",
        "colab_type": "text"
      },
      "source": [
        "<a href=\"https://colab.research.google.com/github/aditi1042003/web_scrapping/blob/main/Web_scrapping1.ipynb\" target=\"_parent\"><img src=\"https://colab.research.google.com/assets/colab-badge.svg\" alt=\"Open In Colab\"/></a>"
      ]
    },
    {
      "cell_type": "code",
      "source": [
        "import bs4\n",
        "import urllib.request as url"
      ],
      "metadata": {
        "id": "izZusETYnOjZ"
      },
      "execution_count": null,
      "outputs": []
    },
    {
      "cell_type": "code",
      "execution_count": null,
      "metadata": {
        "id": "aXhivdYKnLPM"
      },
      "outputs": [],
      "source": [
        "path=\"https://www.flipkart.com/search?q=iphone\""
      ]
    },
    {
      "cell_type": "code",
      "source": [
        "response=url.urlopen(path)"
      ],
      "metadata": {
        "id": "4JD0Dw0hnjoF"
      },
      "execution_count": null,
      "outputs": []
    },
    {
      "cell_type": "code",
      "source": [
        "page=bs4.BeautifulSoup(response)"
      ],
      "metadata": {
        "id": "gIpaS5p4nkB2"
      },
      "execution_count": null,
      "outputs": []
    },
    {
      "cell_type": "code",
      "source": [
        "page.find(\"div\",{'class':\"_4rR01T\"})"
      ],
      "metadata": {
        "colab": {
          "base_uri": "https://localhost:8080/"
        },
        "id": "xFm8GWREojUI",
        "outputId": "661fa2c0-0211-45dd-9baf-e7e9924f4cb5"
      },
      "execution_count": null,
      "outputs": [
        {
          "output_type": "execute_result",
          "data": {
            "text/plain": [
              "<div class=\"_4rR01T\">APPLE iPhone 11 (White, 128 GB)</div>"
            ]
          },
          "metadata": {},
          "execution_count": 6
        }
      ]
    },
    {
      "cell_type": "code",
      "source": [
        "title=page.find(\"div\",{'class':\"_4rR01T\"})\n",
        "print(title.text)"
      ],
      "metadata": {
        "colab": {
          "base_uri": "https://localhost:8080/"
        },
        "id": "cU19G8eUojFK",
        "outputId": "f6cb084d-9381-4b60-9b26-8d7f23ee2a10"
      },
      "execution_count": null,
      "outputs": [
        {
          "output_type": "stream",
          "name": "stdout",
          "text": [
            "APPLE iPhone 11 (White, 128 GB)\n"
          ]
        }
      ]
    },
    {
      "cell_type": "code",
      "source": [
        "price=page.find(\"div\",{'class':\"_30jeq3 _1_WHN1\"})\n",
        "print(price.text)"
      ],
      "metadata": {
        "colab": {
          "base_uri": "https://localhost:8080/"
        },
        "id": "SrNyHIgKoi2v",
        "outputId": "132f74c1-dd31-4072-a6f6-7db07e0435fd"
      },
      "execution_count": null,
      "outputs": [
        {
          "output_type": "stream",
          "name": "stdout",
          "text": [
            "₹46,999\n"
          ]
        }
      ]
    },
    {
      "cell_type": "code",
      "source": [
        "titleList=page.find_all('div',{\"class\":\"_4rR01T\"})\n",
        "print(len(titleList))\n",
        "priceList=page.find_all('div',{'class':\"_30jeq3 _1_WHN1\"})\n",
        "print(len(priceList))"
      ],
      "metadata": {
        "colab": {
          "base_uri": "https://localhost:8080/"
        },
        "id": "XY5b3jmtoikJ",
        "outputId": "9722ffcc-7373-4c7a-a117-4419be7ec6b8"
      },
      "execution_count": null,
      "outputs": [
        {
          "output_type": "stream",
          "name": "stdout",
          "text": [
            "24\n",
            "24\n"
          ]
        }
      ]
    },
    {
      "cell_type": "code",
      "source": [
        "for i in range(len(titleList)):\n",
        "  print(titleList[i].text)\n",
        "  print(priceList[i].text)\n",
        "  print(\"*\"*50)"
      ],
      "metadata": {
        "colab": {
          "base_uri": "https://localhost:8080/"
        },
        "id": "YCukZitoA9-1",
        "outputId": "d346caa2-8995-496d-ae71-0aed89c98e8f"
      },
      "execution_count": null,
      "outputs": [
        {
          "output_type": "stream",
          "name": "stdout",
          "text": [
            "APPLE iPhone 11 (White, 128 GB)\n",
            "₹46,999\n",
            "**************************************************\n",
            "APPLE iPhone 11 (Black, 128 GB)\n",
            "₹46,999\n",
            "**************************************************\n",
            "APPLE iPhone 11 (White, 64 GB)\n",
            "₹41,999\n",
            "**************************************************\n",
            "APPLE iPhone 11 (Black, 64 GB)\n",
            "₹41,999\n",
            "**************************************************\n",
            "APPLE iPhone 12 (White, 128 GB)\n",
            "₹58,999\n",
            "**************************************************\n",
            "APPLE iPhone 11 (Purple, 64 GB)\n",
            "₹41,999\n",
            "**************************************************\n",
            "APPLE iPhone 11 (Purple, 128 GB)\n",
            "₹46,999\n",
            "**************************************************\n",
            "APPLE iPhone 12 (Green, 128 GB)\n",
            "₹58,999\n",
            "**************************************************\n",
            "APPLE iPhone 12 (Black, 128 GB)\n",
            "₹58,999\n",
            "**************************************************\n",
            "APPLE iPhone 12 (White, 64 GB)\n",
            "₹53,999\n",
            "**************************************************\n",
            "APPLE iPhone 12 (Blue, 64 GB)\n",
            "₹53,999\n",
            "**************************************************\n",
            "APPLE iPhone 13 (Midnight, 128 GB)\n",
            "₹69,999\n",
            "**************************************************\n",
            "APPLE iPhone 13 (Blue, 128 GB)\n",
            "₹69,999\n",
            "**************************************************\n",
            "APPLE iPhone 11 (Red, 64 GB)\n",
            "₹41,999\n",
            "**************************************************\n",
            "APPLE iPhone 11 (Red, 128 GB)\n",
            "₹46,999\n",
            "**************************************************\n",
            "APPLE iPhone 13 (Starlight, 128 GB)\n",
            "₹69,999\n",
            "**************************************************\n",
            "APPLE iPhone 12 (Purple, 64 GB)\n",
            "₹53,999\n",
            "**************************************************\n",
            "APPLE iPhone 13 (Pink, 128 GB)\n",
            "₹69,999\n",
            "**************************************************\n",
            "APPLE iPhone 11 (Yellow, 64 GB)\n",
            "₹41,999\n",
            "**************************************************\n",
            "APPLE iPhone 13 ((PRODUCT)RED, 128 GB)\n",
            "₹69,999\n",
            "**************************************************\n",
            "APPLE iPhone 12 (Black, 64 GB)\n",
            "₹53,999\n",
            "**************************************************\n",
            "APPLE iPhone 12 (Blue, 128 GB)\n",
            "₹58,999\n",
            "**************************************************\n",
            "APPLE iPhone SE (Red, 64 GB)\n",
            "₹29,999\n",
            "**************************************************\n",
            "APPLE iPhone 12 (Red, 64 GB)\n",
            "₹53,999\n",
            "**************************************************\n"
          ]
        }
      ]
    }
  ]
}